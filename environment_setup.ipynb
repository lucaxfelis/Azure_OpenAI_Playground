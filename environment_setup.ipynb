{
 "cells": [
  {
   "cell_type": "markdown",
   "metadata": {},
   "source": [
    "# Configuração do Ambiente\n",
    "\n",
    "Aqui seguem algumas intruções e orientações sobre as configurações do meu ambiente de desenvolvimento para consumo da API Azure OpenAI utilizando o SDK Python e um modelo que foi implantado. \n",
    "\n",
    "## Pacotes Python\n",
    "\n",
    "Num primeiro momento, foi necessária somente a instação do pacote Python [OpenAI](https://github.com/openai/openai-python)\n",
    "\n",
    "```sh\n",
    "pip install --upgrade openai\n",
    "```\n",
    "\n",
    "\n",
    "## Arquivo de configuração\n",
    "\n",
    "Para armazenar algumas credenciais (chave, endpoint, nome do recurso) do meu recurso implantado do OpenAI Service, eu resolvi utilizar, por ora, um arquivo de configuração no formato .ini. Apesar disso, o recomendado pela Microsoft é a utilização do [Azure Key Vault](https://learn.microsoft.com/en-us/azure/key-vault/general/overview).<br>\n",
    "\n",
    "A síntaxe do arquivo .ini se assemelha a isso:\n",
    "```\n",
    "[AZURE_CONFIG]\n",
    "AZURE_OPENAI_KEY = ****************************************\n",
    "AZURE_OPENAI_ENDPOINT = ***********************************\n",
    "DEPLOYMENT_NAME = *****************************************\n",
    "```\n",
    "\n",
    "## Código Python\n",
    "\n",
    "Na célula abaixo, há o código em Python mostrando uma forma de configuração do ambiente utilizando o SDK. O pacote ```configparser``` é nativo e não precisa ser instalado:\n",
    "    "
   ]
  },
  {
   "cell_type": "code",
   "execution_count": 3,
   "metadata": {},
   "outputs": [],
   "source": [
    "import openai\n",
    "import configparser\n",
    "\n",
    "config = configparser.ConfigParser()\n",
    "config.read('config.ini') # caminho do arquivo de config .ini\n",
    "\n",
    "openai.api_key = config['AZURE_CONFIG']['AZURE_OPENAI_KEY']\n",
    "openai.api_base = config[\"AZURE_CONFIG\"][\"AZURE_OPENAI_ENDPOINT\"]\n",
    "openai.api_type = 'azure'\n",
    "openai.api_version = '2023-05-15' # pode mudar futuramente\n",
    "DEPLOYMENT_NAME = config[\"AZURE_CONFIG\"][\"DEPLOYMENT_NAME\"]"
   ]
  },
  {
   "cell_type": "markdown",
   "metadata": {},
   "source": [
    "Em seguida, iremos fazer uma simples chamada de teste ao meu modelo implantado (API) para validar as configurações do ambiente. Percebe-se que a resposta não é muito precisa, pois não houve refinamento da requisição."
   ]
  },
  {
   "cell_type": "code",
   "execution_count": 5,
   "metadata": {},
   "outputs": [
    {
     "data": {
      "text/plain": [
       "<OpenAIObject text_completion id=cmpl-7evOjmpoLDWnYFr9nH30sxJad1zct at 0x20f0098ed40> JSON: {\n",
       "  \"id\": \"cmpl-7evOjmpoLDWnYFr9nH30sxJad1zct\",\n",
       "  \"object\": \"text_completion\",\n",
       "  \"created\": 1689988113,\n",
       "  \"model\": \"gpt-35-turbo\",\n",
       "  \"choices\": [\n",
       "    {\n",
       "      \"text\": \" Eu j\\u00e1 garanti que as condi\\u00e7\\u00f5es (condi\\u00e7\\u00f5es ambientais) se\",\n",
       "      \"index\": 0,\n",
       "      \"finish_reason\": \"length\",\n",
       "      \"logprobs\": null\n",
       "    }\n",
       "  ],\n",
       "  \"usage\": {\n",
       "    \"completion_tokens\": 16,\n",
       "    \"prompt_tokens\": 11,\n",
       "    \"total_tokens\": 27\n",
       "  }\n",
       "}"
      ]
     },
     "execution_count": 5,
     "metadata": {},
     "output_type": "execute_result"
    }
   ],
   "source": [
    "test_prompt = \"Minha configuração de ambiente está certa?\"\n",
    "\n",
    "response = openai.Completion.create(\n",
    "    engine=DEPLOYMENT_NAME,\n",
    "    prompt=test_prompt,\n",
    ")\n",
    "\n",
    "response"
   ]
  },
  {
   "cell_type": "markdown",
   "metadata": {},
   "source": [
    "Vamos testar um prompt em inglês e verificar se houve melhora na resposta."
   ]
  },
  {
   "cell_type": "code",
   "execution_count": 6,
   "metadata": {},
   "outputs": [
    {
     "data": {
      "text/plain": [
       "<OpenAIObject text_completion id=cmpl-7evQOUrnFCMmhZqbUllqcgLl8kJEG at 0x20f6f028b80> JSON: {\n",
       "  \"id\": \"cmpl-7evQOUrnFCMmhZqbUllqcgLl8kJEG\",\n",
       "  \"object\": \"text_completion\",\n",
       "  \"created\": 1689988216,\n",
       "  \"model\": \"gpt-35-turbo\",\n",
       "  \"choices\": [\n",
       "    {\n",
       "      \"text\": \" And if not how do I fix this?\\nIf I am doing something wrong in\",\n",
       "      \"index\": 0,\n",
       "      \"finish_reason\": \"length\",\n",
       "      \"logprobs\": null\n",
       "    }\n",
       "  ],\n",
       "  \"usage\": {\n",
       "    \"completion_tokens\": 16,\n",
       "    \"prompt_tokens\": 6,\n",
       "    \"total_tokens\": 22\n",
       "  }\n",
       "}"
      ]
     },
     "execution_count": 6,
     "metadata": {},
     "output_type": "execute_result"
    }
   ],
   "source": [
    "en_test_prompt = \"Is my environment setup correct?\"\n",
    "\n",
    "response = openai.Completion.create(\n",
    "    engine=DEPLOYMENT_NAME,\n",
    "    prompt=en_test_prompt,\n",
    ")\n",
    "\n",
    "response"
   ]
  }
 ],
 "metadata": {
  "kernelspec": {
   "display_name": "Python 3",
   "language": "python",
   "name": "python3"
  },
  "language_info": {
   "codemirror_mode": {
    "name": "ipython",
    "version": 3
   },
   "file_extension": ".py",
   "mimetype": "text/x-python",
   "name": "python",
   "nbconvert_exporter": "python",
   "pygments_lexer": "ipython3",
   "version": "3.10.1"
  },
  "orig_nbformat": 4
 },
 "nbformat": 4,
 "nbformat_minor": 2
}
